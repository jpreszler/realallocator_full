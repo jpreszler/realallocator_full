{
 "cells": [
  {
   "cell_type": "markdown",
   "metadata": {},
   "source": [
    "# Validator\n",
    "\n",
    "This file runs the validation used. It contains copies of the core functions of the app, with some additional functions to quickly get validation results. There is also some visualization code at the end to produce graphs for the presentation."
   ]
  },
  {
   "cell_type": "code",
   "execution_count": 1,
   "metadata": {},
   "outputs": [],
   "source": [
    "import numpy as np\n",
    "import pandas as pd\n",
    "import matplotlib.pyplot as plt\n",
    "import seaborn as sns\n",
    "\n",
    "def bounds_from_risk_tol(risk_tol):\n",
    "    if(risk_tol==1):\n",
    "        return([.20, .35, .55, .65])\n",
    "    elif(risk_tol==2):\n",
    "        return([.30, .45, .45, .55])\n",
    "    elif(risk_tol==3):\n",
    "        return([.40, .55, .35, .45])\n",
    "    elif(risk_tol==4):\n",
    "        return([.50, .65, .25, .35])\n",
    "    elif(risk_tol==5):\n",
    "        return([.60, .75, .15, .25])\n",
    "\n",
    "def port_tsdf(portfolio, opt_portfolio, returnsDF, startQuarter, endQuarter):\n",
    "    returns_small = returnsDF[(returnsDF['Quarter']>=startQuarter) & (returnsDF['Quarter']<=endQuarter)].copy()\n",
    "    returns_small['Current Portfolio'] = returns_small['Equities']*portfolio['stock weight'].values+returns_small['Bonds']*portfolio['bond weight'].values\n",
    "    returns_small['Optimal Portfolio'] = returns_small['Equities']*opt_portfolio['stock weight'].values+returns_small['Bonds']*opt_portfolio['bond weight'].values+returns_small['Real Estate']*opt_portfolio['real estate weight'].values\n",
    "    return(returns_small[['Quarter', 'Current Portfolio', 'Optimal Portfolio']])\n",
    "\n",
    "def draw_perform(port_ts_df):\n",
    "#    port_ts_df['Current Portfolio Cumulative'] = port_ts_df['Current Portfolio'].cumprod()\n",
    "#    port_ts_df['Optimal Portfolio Cumulative'] = port_ts_df['Optimal Portfolio'].cumprod()\n",
    "\n",
    "    #g = sns.lineplot(x='Quarter', y='value', hue='variable', data=pd.melt(port_ts_df, id_vars=['Quarter'], value_vars = ['Equities', 'Bonds', 'Real Estate', 'Portfolio']))\n",
    "    g= sns.lineplot(x='Quarter', y='value', hue='variable', data=pd.melt(port_ts_df, id_vars=['Quarter'], value_vars=['Current Portfolio', 'Optimal Portfolio']))\n",
    "    plt.setp(g.get_xticklabels(), rotation=45, visible=True, ha='right')\n",
    "    return g\n",
    "\n",
    "def get_optimal_portfolio(risk_tolerance):\n",
    "    #read datasets\n",
    "    vp = pd.read_csv('/home/jpreszler/github/insight-project/data/vp-sharpe-all.csv')\n",
    "    #curr_sw = current_portfolio['stock weight']\n",
    "    #curr_bw = current_portfolio['bond weight']\n",
    "    #similar_port = vp[(np.abs(vp['stock weight']-curr_sw)<.02) & (np.abs(vp['bond weight']-curr_bw) < .02)]\n",
    "    bds = bounds_from_risk_tol(risk_tolerance)\n",
    "    vp_red = vp[((vp['stock weight']<bds[1])& (vp['stock weight']>bds[0])& (vp['bond weight']<bds[3]) & (vp['bond weight']>bds[2]))]\n",
    "    #bigger_sharpe = vp[vp['Sharpe']<similar_port['Sharpe'].mean()]\n",
    "    #less_varied_sharpe = vp[vp['std Sharpe']<similar_port['std Sharpe'].mean()]\n",
    "    opt = vp_red[vp_red['Sharpe']==vp_red['Sharpe'].max()]\n",
    "    #opt_range = vp_red[((vp['mean Sharpe'].max()-vp['mean Sharpe'])<.01)]\n",
    "    opt_df = pd.DataFrame({'name': 'Optimal', 'stock weight': opt['stock weight'].max(), 'bond weight': opt['bond weight'].max(), 'real estate weight': opt['real estate weight'].min()}, index=[0])\n",
    "    #for testing only\n",
    "#    ret = np.random.choice(range(0, len(both)), 1)[0]\n",
    "    return(opt_df)\n"
   ]
  },
  {
   "cell_type": "code",
   "execution_count": 17,
   "metadata": {},
   "outputs": [],
   "source": [
    "def validator(csw, cbw, rt):\n",
    "    ret_df = pd.read_csv('/home/jpreszler/github/insight-project/wk3_app/static/asset-returns-full-quarterly-risk-free.csv')\n",
    "    current_portfolio = pd.DataFrame({'name':'Current', 'stock weight':csw, 'bond weight': cbw, 'real estate weight':0}, index=[0])\n",
    "\n",
    "    #optimal_portfolio = get_optimal_portfolio(current_portfolio, risk_tolerance)\n",
    "    opt_portfolio = get_optimal_portfolio(rt)\n",
    "    #portfolio_comparison_df = compare_portfolios(current_portfolio, optimal_portfolio)\n",
    "    port_returns = port_tsdf(current_portfolio, opt_portfolio, ret_df, '2014Q1', '2019Q1')\n",
    "    opt_ahead = port_returns[port_returns['Optimal Portfolio']>=port_returns['Current Portfolio']]['Quarter'].count()\n",
    "    mean_diff = np.round((port_returns['Optimal Portfolio']-port_returns['Current Portfolio']).mean(), decimals=3)\n",
    "    std_diff = (np.round((port_returns['Optimal Portfolio'].std()-port_returns['Current Portfolio'].std()), decimals=3))\n",
    "    tr_diff = (np.round((((1+port_returns['Optimal Portfolio']/100).prod()-(1+port_returns['Current Portfolio']/100).prod())*100), decimals=3))\n",
    "    tr_opt = (np.round((((1+port_returns['Optimal Portfolio']/100).prod()-1)*100), decimals=3))\n",
    "    tr_curr = (np.round((((1+port_returns['Current Portfolio']/100).prod()-1)*100), decimals=3))\n",
    "    \n",
    "    return([mean_diff, tr_diff, tr_opt, tr_curr, std_diff, opt_ahead, rt])\n",
    "\n",
    "def validator_graph(csw, cbw, rt):\n",
    "    ret_df = pd.read_csv('/home/jpreszler/github/insight-project/wk3_app/static/asset-returns-quarterly.csv')\n",
    "    current_portfolio = pd.DataFrame({'name':'Current', 'stock weight':csw, 'bond weight': cbw, 'real estate weight':0}, index=[0])\n",
    "\n",
    "    #optimal_portfolio = get_optimal_portfolio(current_portfolio, risk_tolerance)\n",
    "    opt_portfolio = get_optimal_portfolio(rt)\n",
    "    #portfolio_comparison_df = compare_portfolios(current_portfolio, optimal_portfolio)\n",
    "    port_returns = port_tsdf(current_portfolio, opt_portfolio, ret_df, '2014Q1', '2019Q1')\n",
    "    g = draw_perform(port_returns)\n",
    "    return(g)\n"
   ]
  },
  {
   "cell_type": "code",
   "execution_count": 18,
   "metadata": {},
   "outputs": [
    {
     "data": {
      "text/plain": [
       "[0.001, 0.799, 46.598, 45.799, -0.991, 8, 3]"
      ]
     },
     "execution_count": 18,
     "metadata": {},
     "output_type": "execute_result"
    }
   ],
   "source": [
    "validator(.6, .4, 3)"
   ]
  },
  {
   "cell_type": "code",
   "execution_count": 19,
   "metadata": {},
   "outputs": [
    {
     "data": {
      "text/plain": [
       "(25, 3)"
      ]
     },
     "execution_count": 19,
     "metadata": {},
     "output_type": "execute_result"
    }
   ],
   "source": [
    "test = pd.read_csv('validation_data.csv')\n",
    "test.shape"
   ]
  },
  {
   "cell_type": "code",
   "execution_count": 20,
   "metadata": {},
   "outputs": [],
   "source": [
    "col =['row','mean diff', 'tr diff', 'RealAllocator', 'Current', 'risk diff', 'ahead', 'Risk Tolerance']\n",
    "results = pd.DataFrame(columns=col)\n",
    "for k, r in test.iterrows():\n",
    "    res0,res1,res2, res3, res4, res5, res6=validator(r['sw'],r['bw'],r['rt'])\n",
    "    results=results.append(pd.Series([k, res0,res1,res2, res3, res4, res5, res6], index=col), ignore_index=True)"
   ]
  },
  {
   "cell_type": "code",
   "execution_count": 21,
   "metadata": {},
   "outputs": [
    {
     "data": {
      "text/html": [
       "<div>\n",
       "<style scoped>\n",
       "    .dataframe tbody tr th:only-of-type {\n",
       "        vertical-align: middle;\n",
       "    }\n",
       "\n",
       "    .dataframe tbody tr th {\n",
       "        vertical-align: top;\n",
       "    }\n",
       "\n",
       "    .dataframe thead th {\n",
       "        text-align: right;\n",
       "    }\n",
       "</style>\n",
       "<table border=\"1\" class=\"dataframe\">\n",
       "  <thead>\n",
       "    <tr style=\"text-align: right;\">\n",
       "      <th></th>\n",
       "      <th>row</th>\n",
       "      <th>mean diff</th>\n",
       "      <th>tr diff</th>\n",
       "      <th>RealAllocator</th>\n",
       "      <th>Current</th>\n",
       "      <th>risk diff</th>\n",
       "      <th>ahead</th>\n",
       "      <th>Risk Tolerance</th>\n",
       "    </tr>\n",
       "  </thead>\n",
       "  <tbody>\n",
       "    <tr>\n",
       "      <th>0</th>\n",
       "      <td>0.0</td>\n",
       "      <td>0.109</td>\n",
       "      <td>3.284</td>\n",
       "      <td>34.465</td>\n",
       "      <td>31.181</td>\n",
       "      <td>-0.650</td>\n",
       "      <td>10.0</td>\n",
       "      <td>1.0</td>\n",
       "    </tr>\n",
       "    <tr>\n",
       "      <th>1</th>\n",
       "      <td>1.0</td>\n",
       "      <td>0.217</td>\n",
       "      <td>6.104</td>\n",
       "      <td>34.465</td>\n",
       "      <td>28.361</td>\n",
       "      <td>-0.463</td>\n",
       "      <td>14.0</td>\n",
       "      <td>1.0</td>\n",
       "    </tr>\n",
       "    <tr>\n",
       "      <th>2</th>\n",
       "      <td>2.0</td>\n",
       "      <td>0.325</td>\n",
       "      <td>8.888</td>\n",
       "      <td>34.465</td>\n",
       "      <td>25.577</td>\n",
       "      <td>-0.310</td>\n",
       "      <td>18.0</td>\n",
       "      <td>1.0</td>\n",
       "    </tr>\n",
       "    <tr>\n",
       "      <th>3</th>\n",
       "      <td>3.0</td>\n",
       "      <td>0.261</td>\n",
       "      <td>7.222</td>\n",
       "      <td>34.465</td>\n",
       "      <td>27.243</td>\n",
       "      <td>-0.397</td>\n",
       "      <td>17.0</td>\n",
       "      <td>1.0</td>\n",
       "    </tr>\n",
       "    <tr>\n",
       "      <th>4</th>\n",
       "      <td>4.0</td>\n",
       "      <td>0.174</td>\n",
       "      <td>4.980</td>\n",
       "      <td>34.465</td>\n",
       "      <td>29.485</td>\n",
       "      <td>-0.535</td>\n",
       "      <td>12.0</td>\n",
       "      <td>1.0</td>\n",
       "    </tr>\n",
       "  </tbody>\n",
       "</table>\n",
       "</div>"
      ],
      "text/plain": [
       "   row  mean diff  tr diff  RealAllocator  Current  risk diff  ahead  \\\n",
       "0  0.0      0.109    3.284         34.465   31.181     -0.650   10.0   \n",
       "1  1.0      0.217    6.104         34.465   28.361     -0.463   14.0   \n",
       "2  2.0      0.325    8.888         34.465   25.577     -0.310   18.0   \n",
       "3  3.0      0.261    7.222         34.465   27.243     -0.397   17.0   \n",
       "4  4.0      0.174    4.980         34.465   29.485     -0.535   12.0   \n",
       "\n",
       "   Risk Tolerance  \n",
       "0             1.0  \n",
       "1             1.0  \n",
       "2             1.0  \n",
       "3             1.0  \n",
       "4             1.0  "
      ]
     },
     "execution_count": 21,
     "metadata": {},
     "output_type": "execute_result"
    }
   ],
   "source": [
    "results.head()"
   ]
  },
  {
   "cell_type": "code",
   "execution_count": 39,
   "metadata": {},
   "outputs": [
    {
     "data": {
      "text/html": [
       "<div>\n",
       "<style scoped>\n",
       "    .dataframe tbody tr th:only-of-type {\n",
       "        vertical-align: middle;\n",
       "    }\n",
       "\n",
       "    .dataframe tbody tr th {\n",
       "        vertical-align: top;\n",
       "    }\n",
       "\n",
       "    .dataframe thead th {\n",
       "        text-align: right;\n",
       "    }\n",
       "</style>\n",
       "<table border=\"1\" class=\"dataframe\">\n",
       "  <thead>\n",
       "    <tr style=\"text-align: right;\">\n",
       "      <th></th>\n",
       "      <th>row</th>\n",
       "      <th>mean diff</th>\n",
       "      <th>tr diff</th>\n",
       "      <th>risk diff</th>\n",
       "      <th>ahead</th>\n",
       "    </tr>\n",
       "  </thead>\n",
       "  <tbody>\n",
       "    <tr>\n",
       "      <th>24</th>\n",
       "      <td>24.0</td>\n",
       "      <td>-0.215</td>\n",
       "      <td>-5.085</td>\n",
       "      <td>-1.573</td>\n",
       "      <td>8.0</td>\n",
       "    </tr>\n",
       "  </tbody>\n",
       "</table>\n",
       "</div>"
      ],
      "text/plain": [
       "     row  mean diff  tr diff  risk diff  ahead\n",
       "24  24.0     -0.215   -5.085     -1.573    8.0"
      ]
     },
     "execution_count": 39,
     "metadata": {},
     "output_type": "execute_result"
    }
   ],
   "source": [
    "results[results['tr diff']<0]"
   ]
  },
  {
   "cell_type": "code",
   "execution_count": 12,
   "metadata": {
    "scrolled": true
   },
   "outputs": [
    {
     "data": {
      "text/html": [
       "<div>\n",
       "<style scoped>\n",
       "    .dataframe tbody tr th:only-of-type {\n",
       "        vertical-align: middle;\n",
       "    }\n",
       "\n",
       "    .dataframe tbody tr th {\n",
       "        vertical-align: top;\n",
       "    }\n",
       "\n",
       "    .dataframe thead th {\n",
       "        text-align: right;\n",
       "    }\n",
       "</style>\n",
       "<table border=\"1\" class=\"dataframe\">\n",
       "  <thead>\n",
       "    <tr style=\"text-align: right;\">\n",
       "      <th></th>\n",
       "      <th>row</th>\n",
       "      <th>mean diff</th>\n",
       "      <th>tr diff</th>\n",
       "      <th>tr_opt</th>\n",
       "      <th>tr_curr</th>\n",
       "      <th>risk diff</th>\n",
       "      <th>ahead</th>\n",
       "    </tr>\n",
       "  </thead>\n",
       "  <tbody>\n",
       "    <tr>\n",
       "      <th>count</th>\n",
       "      <td>25.000000</td>\n",
       "      <td>25.000000</td>\n",
       "      <td>25.000000</td>\n",
       "      <td>25.000000</td>\n",
       "      <td>25.000000</td>\n",
       "      <td>25.000000</td>\n",
       "      <td>25.000000</td>\n",
       "    </tr>\n",
       "    <tr>\n",
       "      <th>mean</th>\n",
       "      <td>12.000000</td>\n",
       "      <td>0.180840</td>\n",
       "      <td>5.709280</td>\n",
       "      <td>46.759000</td>\n",
       "      <td>41.049400</td>\n",
       "      <td>-0.553600</td>\n",
       "      <td>13.360000</td>\n",
       "    </tr>\n",
       "    <tr>\n",
       "      <th>std</th>\n",
       "      <td>7.359801</td>\n",
       "      <td>0.114865</td>\n",
       "      <td>3.103193</td>\n",
       "      <td>8.979163</td>\n",
       "      <td>10.141942</td>\n",
       "      <td>0.280847</td>\n",
       "      <td>3.377376</td>\n",
       "    </tr>\n",
       "    <tr>\n",
       "      <th>min</th>\n",
       "      <td>0.000000</td>\n",
       "      <td>-0.215000</td>\n",
       "      <td>-5.085000</td>\n",
       "      <td>34.465000</td>\n",
       "      <td>25.577000</td>\n",
       "      <td>-1.573000</td>\n",
       "      <td>8.000000</td>\n",
       "    </tr>\n",
       "    <tr>\n",
       "      <th>25%</th>\n",
       "      <td>6.000000</td>\n",
       "      <td>0.113000</td>\n",
       "      <td>4.352000</td>\n",
       "      <td>40.457000</td>\n",
       "      <td>32.890000</td>\n",
       "      <td>-0.650000</td>\n",
       "      <td>10.000000</td>\n",
       "    </tr>\n",
       "    <tr>\n",
       "      <th>50%</th>\n",
       "      <td>12.000000</td>\n",
       "      <td>0.217000</td>\n",
       "      <td>6.159000</td>\n",
       "      <td>46.598000</td>\n",
       "      <td>40.439000</td>\n",
       "      <td>-0.481000</td>\n",
       "      <td>14.000000</td>\n",
       "    </tr>\n",
       "    <tr>\n",
       "      <th>75%</th>\n",
       "      <td>18.000000</td>\n",
       "      <td>0.261000</td>\n",
       "      <td>7.438000</td>\n",
       "      <td>52.959000</td>\n",
       "      <td>47.609000</td>\n",
       "      <td>-0.397000</td>\n",
       "      <td>17.000000</td>\n",
       "    </tr>\n",
       "    <tr>\n",
       "      <th>max</th>\n",
       "      <td>24.000000</td>\n",
       "      <td>0.329000</td>\n",
       "      <td>10.151000</td>\n",
       "      <td>59.316000</td>\n",
       "      <td>64.400000</td>\n",
       "      <td>-0.150000</td>\n",
       "      <td>19.000000</td>\n",
       "    </tr>\n",
       "  </tbody>\n",
       "</table>\n",
       "</div>"
      ],
      "text/plain": [
       "             row  mean diff    tr diff     tr_opt    tr_curr  risk diff  \\\n",
       "count  25.000000  25.000000  25.000000  25.000000  25.000000  25.000000   \n",
       "mean   12.000000   0.180840   5.709280  46.759000  41.049400  -0.553600   \n",
       "std     7.359801   0.114865   3.103193   8.979163  10.141942   0.280847   \n",
       "min     0.000000  -0.215000  -5.085000  34.465000  25.577000  -1.573000   \n",
       "25%     6.000000   0.113000   4.352000  40.457000  32.890000  -0.650000   \n",
       "50%    12.000000   0.217000   6.159000  46.598000  40.439000  -0.481000   \n",
       "75%    18.000000   0.261000   7.438000  52.959000  47.609000  -0.397000   \n",
       "max    24.000000   0.329000  10.151000  59.316000  64.400000  -0.150000   \n",
       "\n",
       "           ahead  \n",
       "count  25.000000  \n",
       "mean   13.360000  \n",
       "std     3.377376  \n",
       "min     8.000000  \n",
       "25%    10.000000  \n",
       "50%    14.000000  \n",
       "75%    17.000000  \n",
       "max    19.000000  "
      ]
     },
     "execution_count": 12,
     "metadata": {},
     "output_type": "execute_result"
    }
   ],
   "source": [
    "results.describe()"
   ]
  },
  {
   "cell_type": "code",
   "execution_count": 22,
   "metadata": {},
   "outputs": [
    {
     "data": {
      "text/plain": [
       "<seaborn.axisgrid.FacetGrid at 0x7f3ca9937f28>"
      ]
     },
     "execution_count": 22,
     "metadata": {},
     "output_type": "execute_result"
    },
    {
     "data": {
      "image/png": "[encoded data removed]",
      "text/plain": [
       "<Figure size 318.25x216 with 1 Axes>"
      ]
     },
     "metadata": {
      "needs_background": "light"
     },
     "output_type": "display_data"
    }
   ],
   "source": [
    "res_long = pd.melt(results, id_vars = ['row', 'Risk Tolerance'], value_vars = ['RealAllocator', 'Current'])\n",
    "g = sns.FacetGrid(data=res_long, hue='variable')\n",
    "g.map(sns.distplot, 'value')\n",
    "g.add_legend()"
   ]
  },
  {
   "cell_type": "code",
   "execution_count": 46,
   "metadata": {},
   "outputs": [
    {
     "data": {
      "text/plain": [
       "Text(0.5, 0, 'Gain in Total Returns')"
      ]
     },
     "execution_count": 46,
     "metadata": {},
     "output_type": "execute_result"
    },
    {
     "data": {
      "image/png": "[encoded data removed]",
      "text/plain": [
       "<Figure size 432x288 with 1 Axes>"
      ]
     },
     "metadata": {},
     "output_type": "display_data"
    }
   ],
   "source": [
    "sns.set(font_scale=2)\n",
    "sns.boxplot(x='tr diff', data=results)\n",
    "plt.axvline(c='r')\n",
    "plt.title(\"RealAllocator's Improvement\")\n",
    "plt.xlabel('Gain in Total Returns')"
   ]
  },
  {
   "cell_type": "code",
   "execution_count": 43,
   "metadata": {},
   "outputs": [
    {
     "data": {
      "image/png": "[encoded data removed]",
      "text/plain": [
       "<Figure size 432x288 with 1 Axes>"
      ]
     },
     "metadata": {
      "needs_background": "light"
     },
     "output_type": "display_data"
    }
   ],
   "source": [
    "p = sns.distplot(results['tr diff'])\n",
    "p.axvline(c='r')\n",
    "plt.show()"
   ]
  },
  {
   "cell_type": "code",
   "execution_count": 46,
   "metadata": {},
   "outputs": [
    {
     "data": {
      "text/html": [
       "<div>\n",
       "<style scoped>\n",
       "    .dataframe tbody tr th:only-of-type {\n",
       "        vertical-align: middle;\n",
       "    }\n",
       "\n",
       "    .dataframe tbody tr th {\n",
       "        vertical-align: top;\n",
       "    }\n",
       "\n",
       "    .dataframe thead th {\n",
       "        text-align: right;\n",
       "    }\n",
       "</style>\n",
       "<table border=\"1\" class=\"dataframe\">\n",
       "  <thead>\n",
       "    <tr style=\"text-align: right;\">\n",
       "      <th></th>\n",
       "      <th>name</th>\n",
       "      <th>stock weight</th>\n",
       "      <th>bond weight</th>\n",
       "      <th>real estate weight</th>\n",
       "    </tr>\n",
       "  </thead>\n",
       "  <tbody>\n",
       "    <tr>\n",
       "      <th>0</th>\n",
       "      <td>Optimal</td>\n",
       "      <td>0.41</td>\n",
       "      <td>0.36</td>\n",
       "      <td>0.23</td>\n",
       "    </tr>\n",
       "  </tbody>\n",
       "</table>\n",
       "</div>"
      ],
      "text/plain": [
       "      name  stock weight  bond weight  real estate weight\n",
       "0  Optimal          0.41         0.36                0.23"
      ]
     },
     "execution_count": 46,
     "metadata": {},
     "output_type": "execute_result"
    }
   ],
   "source": [
    "opt = get_optimal_portfolio(3)\n",
    "opt.head()"
   ]
  },
  {
   "cell_type": "code",
   "execution_count": 63,
   "metadata": {},
   "outputs": [
    {
     "data": {
      "image/png": "[encoded data removed]",
      "text/plain": [
       "<Figure size 432x288 with 1 Axes>"
      ]
     },
     "metadata": {
      "needs_background": "light"
     },
     "output_type": "display_data"
    }
   ],
   "source": [
    "g = validator_graph(.6, .4, 4)\n",
    "plt.show()"
   ]
  },
  {
   "cell_type": "code",
   "execution_count": 27,
   "metadata": {},
   "outputs": [
    {
     "data": {
      "text/html": [
       "<div>\n",
       "<style scoped>\n",
       "    .dataframe tbody tr th:only-of-type {\n",
       "        vertical-align: middle;\n",
       "    }\n",
       "\n",
       "    .dataframe tbody tr th {\n",
       "        vertical-align: top;\n",
       "    }\n",
       "\n",
       "    .dataframe thead th {\n",
       "        text-align: right;\n",
       "    }\n",
       "</style>\n",
       "<table border=\"1\" class=\"dataframe\">\n",
       "  <thead>\n",
       "    <tr style=\"text-align: right;\">\n",
       "      <th></th>\n",
       "      <th>stock weight</th>\n",
       "      <th>bond weight</th>\n",
       "      <th>real estate weight</th>\n",
       "      <th>Sharpe All</th>\n",
       "      <th>Sharpe 0</th>\n",
       "      <th>Sharpe 1</th>\n",
       "      <th>Sharpe 2</th>\n",
       "      <th>Sharpe</th>\n",
       "      <th>std Sharpe</th>\n",
       "    </tr>\n",
       "  </thead>\n",
       "  <tbody>\n",
       "    <tr>\n",
       "      <th>0</th>\n",
       "      <td>0.0</td>\n",
       "      <td>0.00</td>\n",
       "      <td>1.00</td>\n",
       "      <td>1.911</td>\n",
       "      <td>1.478</td>\n",
       "      <td>0.903</td>\n",
       "      <td>1.874</td>\n",
       "      <td>1.42</td>\n",
       "      <td>0.4</td>\n",
       "    </tr>\n",
       "    <tr>\n",
       "      <th>1</th>\n",
       "      <td>0.0</td>\n",
       "      <td>0.01</td>\n",
       "      <td>0.99</td>\n",
       "      <td>1.892</td>\n",
       "      <td>1.473</td>\n",
       "      <td>0.909</td>\n",
       "      <td>1.880</td>\n",
       "      <td>1.42</td>\n",
       "      <td>0.4</td>\n",
       "    </tr>\n",
       "    <tr>\n",
       "      <th>2</th>\n",
       "      <td>0.0</td>\n",
       "      <td>0.02</td>\n",
       "      <td>0.98</td>\n",
       "      <td>1.865</td>\n",
       "      <td>1.467</td>\n",
       "      <td>0.907</td>\n",
       "      <td>1.881</td>\n",
       "      <td>1.42</td>\n",
       "      <td>0.4</td>\n",
       "    </tr>\n",
       "    <tr>\n",
       "      <th>3</th>\n",
       "      <td>0.0</td>\n",
       "      <td>0.03</td>\n",
       "      <td>0.97</td>\n",
       "      <td>1.831</td>\n",
       "      <td>1.459</td>\n",
       "      <td>0.901</td>\n",
       "      <td>1.877</td>\n",
       "      <td>1.41</td>\n",
       "      <td>0.4</td>\n",
       "    </tr>\n",
       "    <tr>\n",
       "      <th>4</th>\n",
       "      <td>0.0</td>\n",
       "      <td>0.04</td>\n",
       "      <td>0.96</td>\n",
       "      <td>1.793</td>\n",
       "      <td>1.449</td>\n",
       "      <td>0.895</td>\n",
       "      <td>1.869</td>\n",
       "      <td>1.40</td>\n",
       "      <td>0.4</td>\n",
       "    </tr>\n",
       "  </tbody>\n",
       "</table>\n",
       "</div>"
      ],
      "text/plain": [
       "   stock weight  bond weight  real estate weight  Sharpe All  Sharpe 0  \\\n",
       "0           0.0         0.00                1.00       1.911     1.478   \n",
       "1           0.0         0.01                0.99       1.892     1.473   \n",
       "2           0.0         0.02                0.98       1.865     1.467   \n",
       "3           0.0         0.03                0.97       1.831     1.459   \n",
       "4           0.0         0.04                0.96       1.793     1.449   \n",
       "\n",
       "   Sharpe 1  Sharpe 2  Sharpe  std Sharpe  \n",
       "0     0.903     1.874    1.42         0.4  \n",
       "1     0.909     1.880    1.42         0.4  \n",
       "2     0.907     1.881    1.42         0.4  \n",
       "3     0.901     1.877    1.41         0.4  \n",
       "4     0.895     1.869    1.40         0.4  "
      ]
     },
     "execution_count": 27,
     "metadata": {},
     "output_type": "execute_result"
    }
   ],
   "source": [
    "vp = pd.read_csv('data/vp-sharpe-all.csv')\n",
    "vp.head()"
   ]
  },
  {
   "cell_type": "code",
   "execution_count": 87,
   "metadata": {},
   "outputs": [],
   "source": [
    "vp_sample = vp[((vp['stock weight']<.85) & (vp['bond weight']<.45) & (vp['real estate weight']<.25))].copy()\n",
    "vp_sample['valid'] = np.where(((vp_sample['stock weight']>.50) & (vp_sample['bond weight']>.10)), 'yes','no')\n"
   ]
  },
  {
   "cell_type": "code",
   "execution_count": 88,
   "metadata": {},
   "outputs": [
    {
     "data": {
      "text/plain": [
       "no     4696\n",
       "yes     105\n",
       "Name: valid, dtype: int64"
      ]
     },
     "execution_count": 88,
     "metadata": {},
     "output_type": "execute_result"
    }
   ],
   "source": [
    "vp['valid'].value_counts()"
   ]
  },
  {
   "cell_type": "code",
   "execution_count": 92,
   "metadata": {},
   "outputs": [
    {
     "name": "stdout",
     "output_type": "stream",
     "text": [
      "      stock weight  bond weight  real estate weight  Sharpe All  Sharpe 0  \\\n",
      "4044          0.61         0.15                0.24       0.392     0.023   \n",
      "4080          0.62         0.14                0.24       0.392     0.021   \n",
      "4116          0.63         0.13                0.24       0.392     0.020   \n",
      "4152          0.64         0.12                0.24       0.392     0.019   \n",
      "4188          0.65         0.11                0.24       0.392     0.017   \n",
      "\n",
      "      Sharpe 1  Sharpe 2  Sharpe  std Sharpe valid  \n",
      "4044    -0.438     2.201     0.6        1.15   yes  \n",
      "4080    -0.443     2.211     0.6        1.16   yes  \n",
      "4116    -0.448     2.220     0.6        1.16   yes  \n",
      "4152    -0.453     2.228     0.6        1.17   yes  \n",
      "4188    -0.458     2.235     0.6        1.17   yes  \n"
     ]
    },
    {
     "data": {
      "text/plain": [
       "<matplotlib.legend.Legend at 0x7f3ca2f2d8d0>"
      ]
     },
     "execution_count": 92,
     "metadata": {},
     "output_type": "execute_result"
    },
    {
     "data": {
      "image/png": "[encoded data removed]",
      "text/plain": [
       "<Figure size 432x288 with 1 Axes>"
      ]
     },
     "metadata": {},
     "output_type": "display_data"
    }
   ],
   "source": [
    "opt = vp_sample[((vp_sample['valid']=='yes'))].copy()\n",
    "opt = opt[opt['Sharpe']==opt['Sharpe'].max()]\n",
    "print(opt)\n",
    "sns.scatterplot(x='real estate weight', y='Sharpe', hue='valid', hue_order=['no', 'yes'], style='valid', style_order=['yes', 'no'], alpha=.3, data=vp_sample)\n",
    "plt.scatter(x=opt['real estate weight'], y=opt['Sharpe'], c='r')\n",
    "plt.legend(bbox_to_anchor=(1.05, 0), loc=3, borderaxespad=0.)"
   ]
  },
  {
   "cell_type": "code",
   "execution_count": null,
   "metadata": {},
   "outputs": [],
   "source": []
  }
 ],
 "metadata": {
  "kernelspec": {
   "display_name": "Python 3",
   "language": "python",
   "name": "python3"
  },
  "language_info": {
   "codemirror_mode": {
    "name": "ipython",
    "version": 3
   },
   "file_extension": ".py",
   "mimetype": "text/x-python",
   "name": "python",
   "nbconvert_exporter": "python",
   "pygments_lexer": "ipython3",
   "version": "3.7.3"
  }
 },
 "nbformat": 4,
 "nbformat_minor": 2
}
