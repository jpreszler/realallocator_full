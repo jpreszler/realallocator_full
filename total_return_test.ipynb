{
 "cells": [
  {
   "cell_type": "markdown",
   "metadata": {},
   "source": [
    "# Total Return Test\n",
    "\n",
    "This file contains copies of code used in the app. It's sole purpose was to test code to calculate total returns and produce graphs of the total returns for the backtests.\n",
    "\n",
    "Any substantive work here has been incorporated into the app, and changes to the app (particularly bounds on equity and bond weights) will make this outpated."
   ]
  },
  {
   "cell_type": "code",
   "execution_count": 1,
   "metadata": {},
   "outputs": [],
   "source": [
    "import pandas as pd\n",
    "import numpy as np\n",
    "from scipy import stats\n",
    "import matplotlib.pyplot as plt\n",
    "import seaborn as sns\n",
    "\n",
    "#from sklearn.cluster import KMeans\n",
    "#km = KMeans(n_clusters = 4)\n",
    "#returns['KM labels'] = km.fit_predict(returns.set_index('Quarter'))\n",
    "#returns.groupby(['SC label']).agg(['mean', 'std', 'min', 'max', 'count'])\n",
    "\n",
    "#returns.groupby(['SC label Equity']).agg(['mean', 'std', 'min', 'max', 'count'])\n",
    "#returns.groupby(['SC label', 'SC label Equity'])['Quarter'].count()\n",
    "\n",
    "returns=pd.read_csv('/home/jpreszler/github/insight-project/data/sc-label-returns.csv')\n"
   ]
  },
  {
   "cell_type": "code",
   "execution_count": null,
   "metadata": {},
   "outputs": [],
   "source": []
  },
  {
   "cell_type": "code",
   "execution_count": 2,
   "metadata": {},
   "outputs": [],
   "source": [
    "def bounds_from_risk_tol(risk_tol):\n",
    "    if(risk_tol==1):\n",
    "        return([.20, .35, .55, .65])\n",
    "    elif(risk_tol==2):\n",
    "        return([.30, .45, .45, .55])\n",
    "    elif(risk_tol==3):\n",
    "        return([.40, .55, .35, .45])\n",
    "    elif(risk_tol==4):\n",
    "        return([.50, .65, .25, .35])\n",
    "    elif(risk_tol==5):\n",
    "        return([.60, .75, .15, .25])\n",
    "\n",
    "def port_tsdf(portfolio, opt_portfolio, returnsDF, startQuarter, endQuarter):\n",
    "    returns_small = returnsDF[(returnsDF['Quarter']>=startQuarter) & (returnsDF['Quarter']<=endQuarter)].copy()\n",
    "    returns_small['Current Portfolio'] = returns_small['Equities']*portfolio['stock weight'].values[0]+returns_small['Bonds']*portfolio['bond weight'].values[0]\n",
    "    returns_small['Optimal Portfolio'] = returns_small['Equities']*opt_portfolio['stock weight'].values[0]+returns_small['Bonds']*opt_portfolio['bond weight'].values[0]+returns_small['Real Estate']*opt_portfolio['real estate weight'].values[0]\n",
    "    return(returns_small[['Quarter', 'Current Portfolio', 'Optimal Portfolio']])\n",
    "\n",
    "def draw_perform(port_ts_df):\n",
    "#    port_ts_df['Current Portfolio Cumulative'] = port_ts_df['Current Portfolio'].cumprod()\n",
    "#    port_ts_df['Optimal Portfolio Cumulative'] = port_ts_df['Optimal Portfolio'].cumprod()\n",
    "\n",
    "    #g = sns.lineplot(x='Quarter', y='value', hue='variable', data=pd.melt(port_ts_df, id_vars=['Quarter'], value_vars = ['Equities', 'Bonds', 'Real Estate', 'Portfolio']))\n",
    "    g= sns.lineplot(x='Quarter', y='value', hue='variable', data=pd.melt(port_ts_df, id_vars=['Quarter'], value_vars=['Current Portfolio', 'Optimal Portfolio']))\n",
    "    return g\n",
    "\n",
    "def get_optimal_portfolio(risk_tolerance):\n",
    "    #read datasets\n",
    "    vp = pd.read_csv('/home/jpreszler/github/insight-project/wk3_app/static/vp-sharpe-all.csv')\n",
    "\n",
    "    bds = bounds_from_risk_tol(risk_tolerance)\n",
    "    vp_red = vp[((vp['stock weight']<bds[1])& (vp['stock weight']>bds[0])& (vp['bond weight']<bds[3]) & (vp['bond weight']>bds[2]))]\n",
    "    opt = vp_red[vp_red['Sharpe']==vp_red['Sharpe'].max()]\n",
    "    opt_df = pd.DataFrame({'name': 'Optimal', 'stock weight': opt['stock weight'].max(), 'bond weight': opt['bond weight'].max(), 'real estate weight': opt['real estate weight'].min(), 'Sharpe': opt['Sharpe'].mean()}, index=[0])\n",
    "\n",
    "    return(opt_df)\n"
   ]
  },
  {
   "cell_type": "code",
   "execution_count": 3,
   "metadata": {},
   "outputs": [],
   "source": [
    "ret_df = pd.read_csv('/home/jpreszler/github/insight-project/wk3_app/static/asset-returns-full-quarterly-risk-free.csv')\n",
    "vp = pd.read_csv('/home/jpreszler/github/insight-project/wk3_app/static/vp-sharpe-all.csv')\n"
   ]
  },
  {
   "cell_type": "code",
   "execution_count": 4,
   "metadata": {},
   "outputs": [],
   "source": [
    "current_portfolio = pd.DataFrame({'name':'Current', 'stock weight':.67, 'bond weight': .33, 'real estate weight':0}, index=[0])\n",
    "opt_portfolio = get_optimal_portfolio(5)\n",
    "    "
   ]
  },
  {
   "cell_type": "code",
   "execution_count": 6,
   "metadata": {},
   "outputs": [
    {
     "data": {
      "text/html": [
       "<div>\n",
       "<style scoped>\n",
       "    .dataframe tbody tr th:only-of-type {\n",
       "        vertical-align: middle;\n",
       "    }\n",
       "\n",
       "    .dataframe tbody tr th {\n",
       "        vertical-align: top;\n",
       "    }\n",
       "\n",
       "    .dataframe thead th {\n",
       "        text-align: right;\n",
       "    }\n",
       "</style>\n",
       "<table border=\"1\" class=\"dataframe\">\n",
       "  <thead>\n",
       "    <tr style=\"text-align: right;\">\n",
       "      <th></th>\n",
       "      <th>Quarter</th>\n",
       "      <th>Current Portfolio</th>\n",
       "      <th>Optimal Portfolio</th>\n",
       "      <th>Current Cumulative</th>\n",
       "      <th>Optimal Cumulative</th>\n",
       "    </tr>\n",
       "  </thead>\n",
       "  <tbody>\n",
       "    <tr>\n",
       "      <th>144</th>\n",
       "      <td>2014Q1</td>\n",
       "      <td>1.6450</td>\n",
       "      <td>1.918568</td>\n",
       "      <td>1.645000</td>\n",
       "      <td>1.918568</td>\n",
       "    </tr>\n",
       "    <tr>\n",
       "      <th>145</th>\n",
       "      <td>2014Q2</td>\n",
       "      <td>3.9463</td>\n",
       "      <td>4.099931</td>\n",
       "      <td>5.656217</td>\n",
       "      <td>6.097159</td>\n",
       "    </tr>\n",
       "    <tr>\n",
       "      <th>146</th>\n",
       "      <td>2014Q3</td>\n",
       "      <td>0.8627</td>\n",
       "      <td>1.332490</td>\n",
       "      <td>6.567713</td>\n",
       "      <td>7.510893</td>\n",
       "    </tr>\n",
       "    <tr>\n",
       "      <th>147</th>\n",
       "      <td>2014Q4</td>\n",
       "      <td>3.9169</td>\n",
       "      <td>3.976528</td>\n",
       "      <td>10.741864</td>\n",
       "      <td>11.786094</td>\n",
       "    </tr>\n",
       "    <tr>\n",
       "      <th>148</th>\n",
       "      <td>2015Q1</td>\n",
       "      <td>1.1645</td>\n",
       "      <td>1.558088</td>\n",
       "      <td>12.031453</td>\n",
       "      <td>13.527819</td>\n",
       "    </tr>\n",
       "  </tbody>\n",
       "</table>\n",
       "</div>"
      ],
      "text/plain": [
       "    Quarter  Current Portfolio  Optimal Portfolio  Current Cumulative  \\\n",
       "144  2014Q1             1.6450           1.918568            1.645000   \n",
       "145  2014Q2             3.9463           4.099931            5.656217   \n",
       "146  2014Q3             0.8627           1.332490            6.567713   \n",
       "147  2014Q4             3.9169           3.976528           10.741864   \n",
       "148  2015Q1             1.1645           1.558088           12.031453   \n",
       "\n",
       "     Optimal Cumulative  \n",
       "144            1.918568  \n",
       "145            6.097159  \n",
       "146            7.510893  \n",
       "147           11.786094  \n",
       "148           13.527819  "
      ]
     },
     "execution_count": 6,
     "metadata": {},
     "output_type": "execute_result"
    }
   ],
   "source": [
    "port_ret5 = port_tsdf(current_portfolio, opt_portfolio, ret_df, '2014Q1', '2019Q1')\n",
    "port_ret5['Current Cumulative'] = (port_ret5['Current Portfolio'].apply(lambda x: 1+x/100).cumprod()-1)*100\n",
    "port_ret5['Optimal Cumulative'] = (port_ret5['Optimal Portfolio'].apply(lambda x: 1+x/100).cumprod()-1)*100\n",
    "port_ret5.head()"
   ]
  },
  {
   "cell_type": "code",
   "execution_count": 29,
   "metadata": {},
   "outputs": [],
   "source": [
    "pr_long = pd.melt(port_ret5, id_vars=['Quarter'], value_vars=['Current Portfolio', 'Optimal Portfolio'])\n",
    "prl_curr = pr_long[(pr_long['variable']=='Current Portfolio')].copy()\n",
    "prl_curr['cumulative'] = (prl_curr['value'].apply(lambda x: 1+x/100).cumprod()-1)*100"
   ]
  },
  {
   "cell_type": "code",
   "execution_count": 30,
   "metadata": {},
   "outputs": [
    {
     "data": {
      "text/html": [
       "<div>\n",
       "<style scoped>\n",
       "    .dataframe tbody tr th:only-of-type {\n",
       "        vertical-align: middle;\n",
       "    }\n",
       "\n",
       "    .dataframe tbody tr th {\n",
       "        vertical-align: top;\n",
       "    }\n",
       "\n",
       "    .dataframe thead th {\n",
       "        text-align: right;\n",
       "    }\n",
       "</style>\n",
       "<table border=\"1\" class=\"dataframe\">\n",
       "  <thead>\n",
       "    <tr style=\"text-align: right;\">\n",
       "      <th></th>\n",
       "      <th>Quarter</th>\n",
       "      <th>variable</th>\n",
       "      <th>value</th>\n",
       "      <th>cumulative</th>\n",
       "    </tr>\n",
       "  </thead>\n",
       "  <tbody>\n",
       "    <tr>\n",
       "      <th>0</th>\n",
       "      <td>2014Q1</td>\n",
       "      <td>Current Portfolio</td>\n",
       "      <td>1.6450</td>\n",
       "      <td>1.645000</td>\n",
       "    </tr>\n",
       "    <tr>\n",
       "      <th>1</th>\n",
       "      <td>2014Q2</td>\n",
       "      <td>Current Portfolio</td>\n",
       "      <td>3.9463</td>\n",
       "      <td>5.656217</td>\n",
       "    </tr>\n",
       "    <tr>\n",
       "      <th>2</th>\n",
       "      <td>2014Q3</td>\n",
       "      <td>Current Portfolio</td>\n",
       "      <td>0.8627</td>\n",
       "      <td>6.567713</td>\n",
       "    </tr>\n",
       "    <tr>\n",
       "      <th>3</th>\n",
       "      <td>2014Q4</td>\n",
       "      <td>Current Portfolio</td>\n",
       "      <td>3.9169</td>\n",
       "      <td>10.741864</td>\n",
       "    </tr>\n",
       "    <tr>\n",
       "      <th>4</th>\n",
       "      <td>2015Q1</td>\n",
       "      <td>Current Portfolio</td>\n",
       "      <td>1.1645</td>\n",
       "      <td>12.031453</td>\n",
       "    </tr>\n",
       "  </tbody>\n",
       "</table>\n",
       "</div>"
      ],
      "text/plain": [
       "  Quarter           variable   value  cumulative\n",
       "0  2014Q1  Current Portfolio  1.6450    1.645000\n",
       "1  2014Q2  Current Portfolio  3.9463    5.656217\n",
       "2  2014Q3  Current Portfolio  0.8627    6.567713\n",
       "3  2014Q4  Current Portfolio  3.9169   10.741864\n",
       "4  2015Q1  Current Portfolio  1.1645   12.031453"
      ]
     },
     "execution_count": 30,
     "metadata": {},
     "output_type": "execute_result"
    }
   ],
   "source": [
    "prl_curr.head()"
   ]
  },
  {
   "cell_type": "code",
   "execution_count": 31,
   "metadata": {},
   "outputs": [
    {
     "data": {
      "text/html": [
       "<div>\n",
       "<style scoped>\n",
       "    .dataframe tbody tr th:only-of-type {\n",
       "        vertical-align: middle;\n",
       "    }\n",
       "\n",
       "    .dataframe tbody tr th {\n",
       "        vertical-align: top;\n",
       "    }\n",
       "\n",
       "    .dataframe thead th {\n",
       "        text-align: right;\n",
       "    }\n",
       "</style>\n",
       "<table border=\"1\" class=\"dataframe\">\n",
       "  <thead>\n",
       "    <tr style=\"text-align: right;\">\n",
       "      <th></th>\n",
       "      <th>Quarter</th>\n",
       "      <th>variable</th>\n",
       "      <th>value</th>\n",
       "      <th>cumulative</th>\n",
       "    </tr>\n",
       "  </thead>\n",
       "  <tbody>\n",
       "    <tr>\n",
       "      <th>21</th>\n",
       "      <td>2014Q1</td>\n",
       "      <td>Optimal Portfolio</td>\n",
       "      <td>1.918568</td>\n",
       "      <td>1.918568</td>\n",
       "    </tr>\n",
       "    <tr>\n",
       "      <th>22</th>\n",
       "      <td>2014Q2</td>\n",
       "      <td>Optimal Portfolio</td>\n",
       "      <td>4.099931</td>\n",
       "      <td>6.097159</td>\n",
       "    </tr>\n",
       "    <tr>\n",
       "      <th>23</th>\n",
       "      <td>2014Q3</td>\n",
       "      <td>Optimal Portfolio</td>\n",
       "      <td>1.332490</td>\n",
       "      <td>7.510893</td>\n",
       "    </tr>\n",
       "    <tr>\n",
       "      <th>24</th>\n",
       "      <td>2014Q4</td>\n",
       "      <td>Optimal Portfolio</td>\n",
       "      <td>3.976528</td>\n",
       "      <td>11.786094</td>\n",
       "    </tr>\n",
       "    <tr>\n",
       "      <th>25</th>\n",
       "      <td>2015Q1</td>\n",
       "      <td>Optimal Portfolio</td>\n",
       "      <td>1.558088</td>\n",
       "      <td>13.527819</td>\n",
       "    </tr>\n",
       "  </tbody>\n",
       "</table>\n",
       "</div>"
      ],
      "text/plain": [
       "   Quarter           variable     value  cumulative\n",
       "21  2014Q1  Optimal Portfolio  1.918568    1.918568\n",
       "22  2014Q2  Optimal Portfolio  4.099931    6.097159\n",
       "23  2014Q3  Optimal Portfolio  1.332490    7.510893\n",
       "24  2014Q4  Optimal Portfolio  3.976528   11.786094\n",
       "25  2015Q1  Optimal Portfolio  1.558088   13.527819"
      ]
     },
     "execution_count": 31,
     "metadata": {},
     "output_type": "execute_result"
    }
   ],
   "source": [
    "prl_opt = pr_long[(pr_long['variable']=='Optimal Portfolio')].copy()\n",
    "prl_opt['cumulative'] = (prl_opt['value'].apply(lambda x: 1+x/100).cumprod()-1)*100\n",
    "prl_opt.head()"
   ]
  },
  {
   "cell_type": "code",
   "execution_count": 32,
   "metadata": {},
   "outputs": [
    {
     "data": {
      "text/plain": [
       "<matplotlib.axes._subplots.AxesSubplot at 0x7fd7530697f0>"
      ]
     },
     "execution_count": 32,
     "metadata": {},
     "output_type": "execute_result"
    },
    {
     "data": {
      "image/png": "[encoded data removed]",
      "text/plain": [
       "<Figure size 432x288 with 1 Axes>"
      ]
     },
     "metadata": {
      "needs_background": "light"
     },
     "output_type": "display_data"
    }
   ],
   "source": [
    "prl_both = pd.concat([prl_curr, prl_opt])\n",
    "sns.lineplot(x='Quarter', y='cumulative', hue='variable', data=prl_both)"
   ]
  },
  {
   "cell_type": "code",
   "execution_count": null,
   "metadata": {},
   "outputs": [],
   "source": []
  }
 ],
 "metadata": {
  "kernelspec": {
   "display_name": "Python 3",
   "language": "python",
   "name": "python3"
  },
  "language_info": {
   "codemirror_mode": {
    "name": "ipython",
    "version": 3
   },
   "file_extension": ".py",
   "mimetype": "text/x-python",
   "name": "python",
   "nbconvert_exporter": "python",
   "pygments_lexer": "ipython3",
   "version": "3.7.3"
  }
 },
 "nbformat": 4,
 "nbformat_minor": 2
}
